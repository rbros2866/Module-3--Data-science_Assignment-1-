{
 "cells": [
  {
   "cell_type": "markdown",
   "id": "535b3f4d",
   "metadata": {},
   "source": [
    "1. Write a Python program to reverse a string without using any built-in string reversal functions."
   ]
  },
  {
   "cell_type": "code",
   "execution_count": 1,
   "id": "53b76dad",
   "metadata": {},
   "outputs": [
    {
     "name": "stdout",
     "output_type": "stream",
     "text": [
      "Enter a string: gfhrtysj\n",
      "Reversed string: jsytrhfg\n"
     ]
    }
   ],
   "source": [
    "def reverse_string(input_str):\n",
    "    reversed_str = ''\n",
    "    for i in range(len(input_str)-1, -1, -1):\n",
    "        reversed_str += input_str[i]\n",
    "    return reversed_str\n",
    "\n",
    "\n",
    "string = input(\"Enter a string: \")\n",
    "reversed_string = reverse_string(string)\n",
    "print(\"Reversed string:\", reversed_string)\n"
   ]
  },
  {
   "cell_type": "markdown",
   "id": "cba0d9d9",
   "metadata": {},
   "source": [
    "2. Implement a function to check if a given string is a palindrome."
   ]
  },
  {
   "cell_type": "code",
   "execution_count": 2,
   "id": "f2498570",
   "metadata": {},
   "outputs": [
    {
     "name": "stdout",
     "output_type": "stream",
     "text": [
      "Enter a string: gfhrtd\n",
      "The string is not a palindrome.\n"
     ]
    }
   ],
   "source": [
    "def is_palindrome(input_str):\n",
    "    # Remove any non-alphanumeric characters and convert to lowercase\n",
    "    input_str = ''.join(char.lower() for char in input_str if char.isalnum())\n",
    "\n",
    "    # Check if the string is equal to its reverse\n",
    "    return input_str == input_str[::-1]\n",
    "\n",
    "# Example usage\n",
    "string = input(\"Enter a string: \")\n",
    "if is_palindrome(string):\n",
    "    print(\"The string is a palindrome.\")\n",
    "else:\n",
    "    print(\"The string is not a palindrome.\")\n"
   ]
  },
  {
   "cell_type": "markdown",
   "id": "dbdbbc00",
   "metadata": {},
   "source": [
    "3. Write a program to find the largest element in a given list."
   ]
  },
  {
   "cell_type": "code",
   "execution_count": 3,
   "id": "a38833eb",
   "metadata": {},
   "outputs": [
    {
     "name": "stdout",
     "output_type": "stream",
     "text": [
      "The largest number is: 25\n"
     ]
    }
   ],
   "source": [
    "def find_largest_element(lst):\n",
    "    if len(lst) == 0:\n",
    "        return None\n",
    "\n",
    "    largest = lst[0]  # Initialize largest as the first element of the list\n",
    "    for num in lst:\n",
    "        if num > largest:\n",
    "            largest = num\n",
    "\n",
    "    return largest\n",
    "\n",
    "\n",
    "numbers = [5, 12, 8, 25, 3, 10]\n",
    "largest_number = find_largest_element(numbers)\n",
    "print(\"The largest number is:\", largest_number)\n"
   ]
  },
  {
   "cell_type": "markdown",
   "id": "99f74ae1",
   "metadata": {},
   "source": [
    "4. Implement a function to count the occurrence of each element in a list."
   ]
  },
  {
   "cell_type": "code",
   "execution_count": 4,
   "id": "ae105d29",
   "metadata": {},
   "outputs": [
    {
     "name": "stdout",
     "output_type": "stream",
     "text": [
      "Element occurrences: {1: 3, 2: 2, 3: 2, 4: 1, 5: 1}\n"
     ]
    }
   ],
   "source": [
    "def count_occurrences(lst):\n",
    "    occurrences = {}\n",
    "    for item in lst:\n",
    "        if item in occurrences:\n",
    "            occurrences[item] += 1\n",
    "        else:\n",
    "            occurrences[item] = 1\n",
    "    return occurrences\n",
    "\n",
    "\n",
    "numbers = [1, 2, 3, 2, 1, 3, 4, 5, 1]\n",
    "occurrence_count = count_occurrences(numbers)\n",
    "print(\"Element occurrences:\", occurrence_count)\n"
   ]
  },
  {
   "cell_type": "markdown",
   "id": "34c01b0e",
   "metadata": {},
   "source": [
    "5. Write a Python program to find the second largest number in a list."
   ]
  },
  {
   "cell_type": "code",
   "execution_count": 8,
   "id": "3b9b1acf",
   "metadata": {},
   "outputs": [
    {
     "name": "stdout",
     "output_type": "stream",
     "text": [
      "The second largest number is: 10\n"
     ]
    }
   ],
   "source": [
    "def find_second_largest(lst):\n",
    "    if len(lst) < 2:\n",
    "        return None\n",
    "\n",
    "    largest = max(lst[0], lst[1])\n",
    "    second_largest = min(lst[0], lst[1])\n",
    "\n",
    "    for num in lst[2:]:\n",
    "        if num > largest:\n",
    "            second_largest = largest\n",
    "            largest = num\n",
    "        elif num > second_largest:\n",
    "            second_largest = num\n",
    "\n",
    "    return second_largest\n",
    "\n",
    "numbers = [5, 1, 8, 25, 3, 10]\n",
    "second_largest_number = find_second_largest(numbers)\n",
    "print(\"The second largest number is:\", second_largest_number)\n"
   ]
  },
  {
   "cell_type": "markdown",
   "id": "c217bd2f",
   "metadata": {},
   "source": [
    "6. Implement a function to remove duplicate elements from a list."
   ]
  },
  {
   "cell_type": "code",
   "execution_count": 9,
   "id": "72c75ade",
   "metadata": {},
   "outputs": [
    {
     "name": "stdout",
     "output_type": "stream",
     "text": [
      "List with duplicates removed: [1, 2, 3, 4, 5]\n"
     ]
    }
   ],
   "source": [
    "def remove_duplicates(lst):\n",
    "    return list(set(lst))\n",
    "\n",
    "\n",
    "numbers = [1, 2, 3, 2, 1, 3, 4, 5, 1]\n",
    "unique_numbers = remove_duplicates(numbers)\n",
    "print(\"List with duplicates removed:\", unique_numbers)\n"
   ]
  },
  {
   "cell_type": "markdown",
   "id": "f51e8afa",
   "metadata": {},
   "source": [
    "7. Write a program to calculate the factorial of a given number."
   ]
  },
  {
   "cell_type": "code",
   "execution_count": 12,
   "id": "a6f6ed1f",
   "metadata": {},
   "outputs": [
    {
     "name": "stdout",
     "output_type": "stream",
     "text": [
      "Enter a number: 23\n",
      "The factorial of 23 is: 25852016738884976640000\n"
     ]
    }
   ],
   "source": [
    "def factorial(n):\n",
    "    if n < 0:\n",
    "        return None\n",
    "    elif n == 0:\n",
    "        return 1\n",
    "    else:\n",
    "        result = 1\n",
    "        for i in range(1, n + 1):\n",
    "            result *= i\n",
    "        return result\n",
    "\n",
    "number = int(input(\"Enter a number: \"))\n",
    "factorial_result = factorial(number)\n",
    "if factorial_result is None:\n",
    "    print(\"Factorial is not defined for negative numbers.\")\n",
    "else:\n",
    "    print(\"The factorial of\", number, \"is:\", factorial_result)\n"
   ]
  },
  {
   "cell_type": "markdown",
   "id": "eb7eb522",
   "metadata": {},
   "source": [
    "8. Implement a function to check if a given number is prime."
   ]
  },
  {
   "cell_type": "code",
   "execution_count": 14,
   "id": "d7d269ff",
   "metadata": {},
   "outputs": [
    {
     "name": "stdout",
     "output_type": "stream",
     "text": [
      "Enter a number: 34\n",
      "34 is not a prime number.\n"
     ]
    }
   ],
   "source": [
    "def is_prime(n):\n",
    "    if n <= 1:\n",
    "        return False\n",
    "\n",
    "    for i in range(2, int(n ** 0.5) + 1):\n",
    "        if n % i == 0:\n",
    "            return False\n",
    "\n",
    "    return True\n",
    "\n",
    "\n",
    "number = int(input(\"Enter a number: \"))\n",
    "if is_prime(number):\n",
    "    print(number, \"is a prime number.\")\n",
    "else:\n",
    "    print(number, \"is not a prime number.\")\n"
   ]
  },
  {
   "cell_type": "markdown",
   "id": "45cc3d49",
   "metadata": {},
   "source": [
    "9. Write a Python program to sort a list of integers in ascending order."
   ]
  },
  {
   "cell_type": "code",
   "execution_count": 15,
   "id": "baaa78f5",
   "metadata": {},
   "outputs": [
    {
     "name": "stdout",
     "output_type": "stream",
     "text": [
      "Sorted list: [3, 5, 8, 10, 12, 25]\n"
     ]
    }
   ],
   "source": [
    "def sort_list(lst):\n",
    "    sorted_lst = lst[:]\n",
    "    sorted_lst.sort()\n",
    "    return sorted_lst\n",
    "\n",
    "numbers = [5, 12, 8, 25, 3, 10]\n",
    "sorted_numbers = sort_list(numbers)\n",
    "print(\"Sorted list:\", sorted_numbers)\n"
   ]
  },
  {
   "cell_type": "markdown",
   "id": "ec8ae0c5",
   "metadata": {},
   "source": [
    "10. Implement a function to find the sum of all numbers in a list."
   ]
  },
  {
   "cell_type": "code",
   "execution_count": 16,
   "id": "989d40e9",
   "metadata": {},
   "outputs": [
    {
     "name": "stdout",
     "output_type": "stream",
     "text": [
      "Sum of the numbers: 15\n"
     ]
    }
   ],
   "source": [
    "def calculate_sum(lst):\n",
    "    total = 0\n",
    "    for num in lst:\n",
    "        total += num\n",
    "    return total\n",
    "\n",
    "\n",
    "numbers = [1, 2, 3, 4, 5]\n",
    "sum_of_numbers = calculate_sum(numbers)\n",
    "print(\"Sum of the numbers:\", sum_of_numbers)\n"
   ]
  },
  {
   "cell_type": "markdown",
   "id": "73972fac",
   "metadata": {},
   "source": [
    "11. Write a program to find the common elements between two lists."
   ]
  },
  {
   "cell_type": "code",
   "execution_count": 17,
   "id": "7b804fc8",
   "metadata": {},
   "outputs": [
    {
     "name": "stdout",
     "output_type": "stream",
     "text": [
      "Common elements: [4, 5]\n"
     ]
    }
   ],
   "source": [
    "def find_common_elements(list1, list2):\n",
    "    common_elements = []\n",
    "    for element in list1:\n",
    "        if element in list2:\n",
    "            common_elements.append(element)\n",
    "    return common_elements\n",
    "\n",
    "\n",
    "list1 = [1, 2, 3, 4, 5]\n",
    "list2 = [4, 5, 6, 7, 8]\n",
    "common_elements = find_common_elements(list1, list2)\n",
    "print(\"Common elements:\", common_elements)\n"
   ]
  },
  {
   "cell_type": "markdown",
   "id": "c2ba03d6",
   "metadata": {},
   "source": [
    "12. Implement a function to check if a given string is an anagram of another string."
   ]
  },
  {
   "cell_type": "code",
   "execution_count": 19,
   "id": "1e9193aa",
   "metadata": {},
   "outputs": [
    {
     "name": "stdout",
     "output_type": "stream",
     "text": [
      "Enter the first string: wert\n",
      "Enter the second string: wertyui\n",
      "The strings are not anagrams.\n"
     ]
    }
   ],
   "source": [
    "def is_anagram(str1, str2):\n",
    "    str1 = str1.lower().replace(\" \", \"\")\n",
    "    str2 = str2.lower().replace(\" \", \"\")\n",
    "    \n",
    "    if len(str1) != len(str2):\n",
    "        return False\n",
    "    \n",
    "    count = {}\n",
    "    \n",
    "    for char in str1:\n",
    "        if char in count:\n",
    "            count[char] += 1\n",
    "        else:\n",
    "            count[char] = 1\n",
    "    \n",
    "    for char in str2:\n",
    "        if char in count:\n",
    "            count[char] -= 1\n",
    "        else:\n",
    "            return False\n",
    "    \n",
    "    return all(value == 0 for value in count.values())\n",
    "\n",
    "\n",
    "string1 = input(\"Enter the first string: \")\n",
    "string2 = input(\"Enter the second string: \")\n",
    "\n",
    "if is_anagram(string1, string2):\n",
    "    print(\"The strings are anagrams.\")\n",
    "else:\n",
    "    print(\"The strings are not anagrams.\")\n"
   ]
  },
  {
   "cell_type": "markdown",
   "id": "a78fa18f",
   "metadata": {},
   "source": [
    "13. Write a Python program to generate all permutations of a given string."
   ]
  },
  {
   "cell_type": "code",
   "execution_count": 20,
   "id": "6f7b3292",
   "metadata": {},
   "outputs": [
    {
     "name": "stdout",
     "output_type": "stream",
     "text": [
      "Enter a string: rahul\n",
      "Permutations:\n",
      "rahul\n",
      "rahlu\n",
      "rauhl\n",
      "raulh\n",
      "ralhu\n",
      "raluh\n",
      "rhaul\n",
      "rhalu\n",
      "rhual\n",
      "rhula\n",
      "rhlau\n",
      "rhlua\n",
      "ruahl\n",
      "rualh\n",
      "ruhal\n",
      "ruhla\n",
      "rulah\n",
      "rulha\n",
      "rlahu\n",
      "rlauh\n",
      "rlhau\n",
      "rlhua\n",
      "rluah\n",
      "rluha\n",
      "arhul\n",
      "arhlu\n",
      "aruhl\n",
      "arulh\n",
      "arlhu\n",
      "arluh\n",
      "ahrul\n",
      "ahrlu\n",
      "ahurl\n",
      "ahulr\n",
      "ahlru\n",
      "ahlur\n",
      "aurhl\n",
      "aurlh\n",
      "auhrl\n",
      "auhlr\n",
      "aulrh\n",
      "aulhr\n",
      "alrhu\n",
      "alruh\n",
      "alhru\n",
      "alhur\n",
      "alurh\n",
      "aluhr\n",
      "hraul\n",
      "hralu\n",
      "hrual\n",
      "hrula\n",
      "hrlau\n",
      "hrlua\n",
      "harul\n",
      "harlu\n",
      "haurl\n",
      "haulr\n",
      "halru\n",
      "halur\n",
      "hural\n",
      "hurla\n",
      "huarl\n",
      "hualr\n",
      "hulra\n",
      "hular\n",
      "hlrau\n",
      "hlrua\n",
      "hlaru\n",
      "hlaur\n",
      "hlura\n",
      "hluar\n",
      "urahl\n",
      "uralh\n",
      "urhal\n",
      "urhla\n",
      "urlah\n",
      "urlha\n",
      "uarhl\n",
      "uarlh\n",
      "uahrl\n",
      "uahlr\n",
      "ualrh\n",
      "ualhr\n",
      "uhral\n",
      "uhrla\n",
      "uharl\n",
      "uhalr\n",
      "uhlra\n",
      "uhlar\n",
      "ulrah\n",
      "ulrha\n",
      "ularh\n",
      "ulahr\n",
      "ulhra\n",
      "ulhar\n",
      "lrahu\n",
      "lrauh\n",
      "lrhau\n",
      "lrhua\n",
      "lruah\n",
      "lruha\n",
      "larhu\n",
      "laruh\n",
      "lahru\n",
      "lahur\n",
      "laurh\n",
      "lauhr\n",
      "lhrau\n",
      "lhrua\n",
      "lharu\n",
      "lhaur\n",
      "lhura\n",
      "lhuar\n",
      "lurah\n",
      "lurha\n",
      "luarh\n",
      "luahr\n",
      "luhra\n",
      "luhar\n"
     ]
    }
   ],
   "source": [
    "def generate_permutations(string):\n",
    "    if len(string) == 0:\n",
    "        return []\n",
    "\n",
    "    # Base case: If the string has only one character, return the string itself as the only permutation\n",
    "    if len(string) == 1:\n",
    "        return [string]\n",
    "\n",
    "    permutations = []  # List to store permutations\n",
    "\n",
    "    for i in range(len(string)):\n",
    "        # Extract the current character\n",
    "        current_char = string[i]\n",
    "\n",
    "        # Generate permutations of the remaining characters\n",
    "        remaining_chars = string[:i] + string[i + 1:]\n",
    "        sub_permutations = generate_permutations(remaining_chars)\n",
    "\n",
    "        # Append the current character to each permutation of the remaining characters\n",
    "        for permutation in sub_permutations:\n",
    "            permutations.append(current_char + permutation)\n",
    "\n",
    "    return permutations\n",
    "\n",
    "input_string = input(\"Enter a string: \")\n",
    "permutations = generate_permutations(input_string)\n",
    "print(\"Permutations:\")\n",
    "for permutation in permutations:\n",
    "    print(permutation)\n"
   ]
  },
  {
   "cell_type": "markdown",
   "id": "8c58eef0",
   "metadata": {},
   "source": [
    "14. Implement a function to calculate the Fibonacci sequence up to a given number of terms."
   ]
  },
  {
   "cell_type": "code",
   "execution_count": 21,
   "id": "e4822f61",
   "metadata": {},
   "outputs": [
    {
     "name": "stdout",
     "output_type": "stream",
     "text": [
      "Enter the number of Fibonacci terms to calculate: 4\n",
      "Fibonacci sequence:\n",
      "0\n",
      "1\n",
      "1\n",
      "2\n"
     ]
    }
   ],
   "source": [
    "def fibonacci(n):\n",
    "    sequence = []\n",
    "    if n >= 1:\n",
    "        sequence.append(0)\n",
    "    if n >= 2:\n",
    "        sequence.append(1)\n",
    "\n",
    "    for i in range(2, n):\n",
    "        next_num = sequence[i - 1] + sequence[i - 2]\n",
    "        sequence.append(next_num)\n",
    "\n",
    "    return sequence\n",
    "\n",
    "num_terms = int(input(\"Enter the number of Fibonacci terms to calculate: \"))\n",
    "fib_sequence = fibonacci(num_terms)\n",
    "print(\"Fibonacci sequence:\")\n",
    "for term in fib_sequence:\n",
    "    print(term)\n"
   ]
  },
  {
   "cell_type": "markdown",
   "id": "cac05822",
   "metadata": {},
   "source": [
    "15. Write a program to find the median of a list of numbers."
   ]
  },
  {
   "cell_type": "code",
   "execution_count": 22,
   "id": "e51c391c",
   "metadata": {},
   "outputs": [
    {
     "name": "stdout",
     "output_type": "stream",
     "text": [
      "Median: 4.5\n"
     ]
    }
   ],
   "source": [
    "def find_median(numbers):\n",
    "    sorted_numbers = sorted(numbers)\n",
    "    length = len(sorted_numbers)\n",
    "    mid_index = length // 2\n",
    "\n",
    "    if length % 2 == 0:\n",
    "        median = (sorted_numbers[mid_index - 1] + sorted_numbers[mid_index]) / 2\n",
    "    else:\n",
    "        median = sorted_numbers[mid_index]\n",
    "\n",
    "    return median\n",
    "\n",
    "numbers = [5, 2, 8, 4, 1, 6, 3, 7]\n",
    "median = find_median(numbers)\n",
    "print(\"Median:\", median)\n"
   ]
  },
  {
   "cell_type": "markdown",
   "id": "7efecf74",
   "metadata": {},
   "source": [
    "16. Implement a function to check if a given list is sorted in non-decreasing order."
   ]
  },
  {
   "cell_type": "code",
   "execution_count": 23,
   "id": "28743d13",
   "metadata": {},
   "outputs": [
    {
     "name": "stdout",
     "output_type": "stream",
     "text": [
      "The list is sorted in non-decreasing order.\n"
     ]
    }
   ],
   "source": [
    "def is_sorted(lst):\n",
    "    for i in range(1, len(lst)):\n",
    "        if lst[i] < lst[i - 1]:\n",
    "            return False\n",
    "    return True\n",
    "\n",
    "numbers = [1, 2, 3, 4, 5]\n",
    "if is_sorted(numbers):\n",
    "    print(\"The list is sorted in non-decreasing order.\")\n",
    "else:\n",
    "    print(\"The list is not sorted in non-decreasing order.\")\n"
   ]
  },
  {
   "cell_type": "markdown",
   "id": "a245cdaf",
   "metadata": {},
   "source": [
    "17. Write a Python program to find the intersection of two lists."
   ]
  },
  {
   "cell_type": "code",
   "execution_count": 24,
   "id": "426f3771",
   "metadata": {},
   "outputs": [
    {
     "name": "stdout",
     "output_type": "stream",
     "text": [
      "Intersection: [4, 5]\n"
     ]
    }
   ],
   "source": [
    "def find_intersection(list1, list2):\n",
    "    intersection = []\n",
    "    for item in list1:\n",
    "        if item in list2:\n",
    "            intersection.append(item)\n",
    "    return intersection\n",
    "\n",
    "\n",
    "list1 = [1, 2, 3, 4, 5]\n",
    "list2 = [4, 5, 6, 7, 8]\n",
    "intersection = find_intersection(list1, list2)\n",
    "print(\"Intersection:\", intersection)\n"
   ]
  },
  {
   "cell_type": "markdown",
   "id": "d46cce44",
   "metadata": {},
   "source": [
    "18. Implement a function to find the maximum subarray sum in a given list."
   ]
  },
  {
   "cell_type": "code",
   "execution_count": 1,
   "id": "5cf5852c",
   "metadata": {},
   "outputs": [],
   "source": [
    "def max_subarray_sum(nums):\n",
    "    if not nums:\n",
    "        return 0\n",
    "\n",
    "    max_sum = float('-inf')\n",
    "    current_sum = 0\n",
    "\n",
    "    for num in nums:\n",
    "        current_sum = max(num, current_sum + num)\n",
    "        max_sum = max(max_sum, current_sum)\n",
    "\n",
    "    return max_sum\n"
   ]
  },
  {
   "cell_type": "code",
   "execution_count": 2,
   "id": "802096f9",
   "metadata": {},
   "outputs": [
    {
     "name": "stdout",
     "output_type": "stream",
     "text": [
      "6\n"
     ]
    }
   ],
   "source": [
    "nums = [-2, 1, -3, 4, -1, 2, 1, -5, 4]\n",
    "max_sum = max_subarray_sum(nums)\n",
    "print(max_sum) \n"
   ]
  },
  {
   "cell_type": "markdown",
   "id": "796dbc2a",
   "metadata": {},
   "source": [
    "19. Write a program to remove all vowels from a given string."
   ]
  },
  {
   "cell_type": "code",
   "execution_count": 3,
   "id": "14ec75a7",
   "metadata": {},
   "outputs": [],
   "source": [
    "def remove_vowels(string):\n",
    "    vowels = 'aeiouAEIOU'\n",
    "    result = \"\"\n",
    "\n",
    "    for char in string:\n",
    "        if char not in vowels:\n",
    "            result += char\n",
    "\n",
    "    return result\n"
   ]
  },
  {
   "cell_type": "code",
   "execution_count": 4,
   "id": "e7d440da",
   "metadata": {},
   "outputs": [
    {
     "name": "stdout",
     "output_type": "stream",
     "text": [
      "Hll, Wrld!\n"
     ]
    }
   ],
   "source": [
    "input_string = \"Hello, World!\"\n",
    "output_string = remove_vowels(input_string)\n",
    "print(output_string) \n"
   ]
  },
  {
   "cell_type": "markdown",
   "id": "95dcd7dc",
   "metadata": {},
   "source": [
    "20. Implement a function to reverse the order of words in a given sentence."
   ]
  },
  {
   "cell_type": "code",
   "execution_count": 5,
   "id": "a2de5172",
   "metadata": {},
   "outputs": [],
   "source": [
    "def reverse_sentence(sentence):\n",
    "    words = sentence.split()\n",
    "    reversed_words = words[::-1]\n",
    "    reversed_sentence = ' '.join(reversed_words)\n",
    "    return reversed_sentence\n"
   ]
  },
  {
   "cell_type": "code",
   "execution_count": 6,
   "id": "33d9cc38",
   "metadata": {},
   "outputs": [
    {
     "name": "stdout",
     "output_type": "stream",
     "text": [
      "you? are how Hello,\n"
     ]
    }
   ],
   "source": [
    "input_sentence = \"Hello, how are you?\"\n",
    "output_sentence = reverse_sentence(input_sentence)\n",
    "print(output_sentence) \n"
   ]
  },
  {
   "cell_type": "markdown",
   "id": "096855dd",
   "metadata": {},
   "source": [
    "21. Write a Python program to check if two strings are anagrams of each other."
   ]
  },
  {
   "cell_type": "code",
   "execution_count": 7,
   "id": "4244c274",
   "metadata": {},
   "outputs": [],
   "source": [
    "def are_anagrams(str1, str2):\n",
    "    # Remove spaces and convert to lowercase\n",
    "    str1 = str1.replace(\" \", \"\").lower()\n",
    "    str2 = str2.replace(\" \", \"\").lower()\n",
    "\n",
    "    # Check if the lengths are equal\n",
    "    if len(str1) != len(str2):\n",
    "        return False\n",
    "\n",
    "    # Create dictionaries to count character occurrences\n",
    "    count1 = {}\n",
    "    count2 = {}\n",
    "\n",
    "    # Count characters in str1\n",
    "    for char in str1:\n",
    "        count1[char] = count1.get(char, 0) + 1\n",
    "\n",
    "    # Count characters in str2\n",
    "    for char in str2:\n",
    "        count2[char] = count2.get(char, 0) + 1\n",
    "\n",
    "    # Compare the dictionaries\n",
    "    return count1 == count2\n"
   ]
  },
  {
   "cell_type": "code",
   "execution_count": 8,
   "id": "dfa5c15c",
   "metadata": {},
   "outputs": [
    {
     "name": "stdout",
     "output_type": "stream",
     "text": [
      "True\n"
     ]
    }
   ],
   "source": [
    "string1 = \"listen\"\n",
    "string2 = \"silent\"\n",
    "anagram_check = are_anagrams(string1, string2)\n",
    "print(anagram_check) \n"
   ]
  },
  {
   "cell_type": "markdown",
   "id": "4107a4e0",
   "metadata": {},
   "source": [
    "22. Implement a function to find the first non-repeating character in a string."
   ]
  },
  {
   "cell_type": "code",
   "execution_count": 9,
   "id": "007881e6",
   "metadata": {},
   "outputs": [],
   "source": [
    "def first_non_repeating_character(string):\n",
    "    char_count = {}\n",
    "\n",
    "    # Count the occurrences of each character\n",
    "    for char in string:\n",
    "        char_count[char] = char_count.get(char, 0) + 1\n",
    "\n",
    "    # Find the first non-repeating character\n",
    "    for char in string:\n",
    "        if char_count[char] == 1:\n",
    "            return char\n",
    "\n",
    "    # If no non-repeating character found, return None\n",
    "    return None\n"
   ]
  },
  {
   "cell_type": "code",
   "execution_count": 10,
   "id": "832aa604",
   "metadata": {},
   "outputs": [
    {
     "name": "stdout",
     "output_type": "stream",
     "text": [
      "h\n"
     ]
    }
   ],
   "source": [
    "input_string = \"hello\"\n",
    "non_repeating_char = first_non_repeating_character(input_string)\n",
    "print(non_repeating_char) \n"
   ]
  },
  {
   "cell_type": "markdown",
   "id": "5103c43c",
   "metadata": {},
   "source": [
    "23. Write a program to find the prime factors of a given number."
   ]
  },
  {
   "cell_type": "code",
   "execution_count": 11,
   "id": "0bfd9e8f",
   "metadata": {},
   "outputs": [],
   "source": [
    "def prime_factors(n):\n",
    "    factors = []\n",
    "    i = 2\n",
    "\n",
    "    while i <= n:\n",
    "        if n % i == 0:\n",
    "            factors.append(i)\n",
    "            n = n // i\n",
    "        else:\n",
    "            i += 1\n",
    "\n",
    "    return factors\n"
   ]
  },
  {
   "cell_type": "code",
   "execution_count": 12,
   "id": "83e4b480",
   "metadata": {},
   "outputs": [
    {
     "name": "stdout",
     "output_type": "stream",
     "text": [
      "[2, 2, 3, 7]\n"
     ]
    }
   ],
   "source": [
    "number = 84\n",
    "prime_factors_list = prime_factors(number)\n",
    "print(prime_factors_list) \n"
   ]
  },
  {
   "cell_type": "markdown",
   "id": "d1ccab87",
   "metadata": {},
   "source": [
    "24. Implement a function to check if a given number is a power of two.\n"
   ]
  },
  {
   "cell_type": "code",
   "execution_count": 13,
   "id": "bfc3fa18",
   "metadata": {},
   "outputs": [],
   "source": [
    "def is_power_of_two(n):\n",
    "    if n <= 0:\n",
    "        return False\n",
    "\n",
    "    # Check if n is a power of two by bitwise AND\n",
    "    return (n & (n - 1)) == 0\n"
   ]
  },
  {
   "cell_type": "code",
   "execution_count": 14,
   "id": "1d724a68",
   "metadata": {},
   "outputs": [
    {
     "name": "stdout",
     "output_type": "stream",
     "text": [
      "True\n",
      "False\n"
     ]
    }
   ],
   "source": [
    "number1 = 16\n",
    "number2 = 20\n",
    "\n",
    "print(is_power_of_two(number1)) \n",
    "print(is_power_of_two(number2)) \n"
   ]
  },
  {
   "cell_type": "markdown",
   "id": "f8a4b304",
   "metadata": {},
   "source": [
    "25. Write a Python program to merge two sorted lists into a single sorted list.\n"
   ]
  },
  {
   "cell_type": "code",
   "execution_count": 15,
   "id": "ae982148",
   "metadata": {},
   "outputs": [],
   "source": [
    "def merge_sorted_lists(list1, list2):\n",
    "    merged_list = []\n",
    "    i = 0\n",
    "    j = 0\n",
    "\n",
    "    while i < len(list1) and j < len(list2):\n",
    "        if list1[i] <= list2[j]:\n",
    "            merged_list.append(list1[i])\n",
    "            i += 1\n",
    "        else:\n",
    "            merged_list.append(list2[j])\n",
    "            j += 1\n",
    "\n",
    "    # Append remaining elements from list1, if any\n",
    "    while i < len(list1):\n",
    "        merged_list.append(list1[i])\n",
    "        i += 1\n",
    "\n",
    "    # Append remaining elements from list2, if any\n",
    "    while j < len(list2):\n",
    "        merged_list.append(list2[j])\n",
    "        j += 1\n",
    "\n",
    "    return merged_list\n"
   ]
  },
  {
   "cell_type": "markdown",
   "id": "f031c03f",
   "metadata": {},
   "source": [
    "list1 = [1, 3, 5, 7]\n",
    "list2 = [2, 4, 6, 8]\n",
    "merged = merge_sorted_lists(list1, list2)\n",
    "print(merged) \n"
   ]
  },
  {
   "cell_type": "markdown",
   "id": "4a277823",
   "metadata": {},
   "source": [
    "26. Implement a function to find the mode of a list of numbers."
   ]
  },
  {
   "cell_type": "code",
   "execution_count": 17,
   "id": "1f8da3ae",
   "metadata": {},
   "outputs": [],
   "source": [
    "from collections import Counter\n",
    "\n",
    "def find_mode(numbers):\n",
    "    counter = Counter(numbers)\n",
    "    max_count = max(counter.values())\n",
    "    mode = [num for num, count in counter.items() if count == max_count]\n",
    "    return mode\n"
   ]
  },
  {
   "cell_type": "code",
   "execution_count": 18,
   "id": "00b0976f",
   "metadata": {},
   "outputs": [
    {
     "name": "stdout",
     "output_type": "stream",
     "text": [
      "[3, 5]\n"
     ]
    }
   ],
   "source": [
    "numbers = [1, 2, 2, 3, 3, 3, 4, 5, 5, 5]\n",
    "mode = find_mode(numbers)\n",
    "print(mode) \n"
   ]
  },
  {
   "cell_type": "markdown",
   "id": "0523b8a8",
   "metadata": {},
   "source": [
    "27. Write a program to find the greatest common divisor (GCD) of two numbers."
   ]
  },
  {
   "cell_type": "code",
   "execution_count": 19,
   "id": "d7c834fd",
   "metadata": {},
   "outputs": [],
   "source": [
    "def gcd(a, b):\n",
    "    while b != 0:\n",
    "        a, b = b, a % b\n",
    "    return a\n"
   ]
  },
  {
   "cell_type": "code",
   "execution_count": 20,
   "id": "190ca3ba",
   "metadata": {},
   "outputs": [
    {
     "name": "stdout",
     "output_type": "stream",
     "text": [
      "12\n"
     ]
    }
   ],
   "source": [
    "num1 = 84\n",
    "num2 = 36\n",
    "gcd_value = gcd(num1, num2)\n",
    "print(gcd_value) \n"
   ]
  },
  {
   "cell_type": "markdown",
   "id": "25262918",
   "metadata": {},
   "source": [
    "28. Implement a function to calculate the square root of a given number."
   ]
  },
  {
   "cell_type": "code",
   "execution_count": 22,
   "id": "0e4ebd19",
   "metadata": {},
   "outputs": [],
   "source": [
    "def square_root(n, epsilon=1e-6):\n",
    "    if n < 0:\n",
    "        raise ValueError(\"Square root is undefined for negative numbers.\")\n",
    "    \n",
    "    guess = n / 2\n",
    "    while abs(guess * guess - n) > epsilon:\n",
    "        guess = (guess + n / guess) / 2\n",
    "    \n",
    "    return guess\n"
   ]
  },
  {
   "cell_type": "code",
   "execution_count": 23,
   "id": "144734e7",
   "metadata": {},
   "outputs": [
    {
     "name": "stdout",
     "output_type": "stream",
     "text": [
      "5.000000000016778\n"
     ]
    }
   ],
   "source": [
    "number = 25\n",
    "sqrt = square_root(number)\n",
    "print(sqrt) \n"
   ]
  },
  {
   "cell_type": "markdown",
   "id": "22bcc4c2",
   "metadata": {},
   "source": [
    "29. Write a Python program to check if a given string is a valid palindrome ignoring non-alphanumeric characters."
   ]
  },
  {
   "cell_type": "code",
   "execution_count": 24,
   "id": "6c4dfdc7",
   "metadata": {},
   "outputs": [],
   "source": [
    "import re\n",
    "\n",
    "def is_valid_palindrome(s):\n",
    "    # Remove non-alphanumeric characters\n",
    "    s = re.sub(r'[^a-zA-Z0-9]', '', s.lower())\n",
    "    \n",
    "    # Check if the modified string is a palindrome\n",
    "    return s == s[::-1]\n"
   ]
  },
  {
   "cell_type": "code",
   "execution_count": 25,
   "id": "e23899be",
   "metadata": {},
   "outputs": [
    {
     "name": "stdout",
     "output_type": "stream",
     "text": [
      "True\n",
      "False\n"
     ]
    }
   ],
   "source": [
    "string1 = \"A man, a plan, a canal: Panama\"\n",
    "string2 = \"race a car\"\n",
    "\n",
    "print(is_valid_palindrome(string1))  \n",
    "print(is_valid_palindrome(string2))  \n"
   ]
  },
  {
   "cell_type": "markdown",
   "id": "beac4bed",
   "metadata": {},
   "source": [
    "30. Implement a function to find the minimum element in a rotated sorted list.\n"
   ]
  },
  {
   "cell_type": "code",
   "execution_count": 26,
   "id": "e73a8967",
   "metadata": {},
   "outputs": [],
   "source": [
    "def find_min_in_rotated_sorted_list(nums):\n",
    "    left = 0\n",
    "    right = len(nums) - 1\n",
    "\n",
    "    while left < right:\n",
    "        mid = left + (right - left) // 2\n",
    "\n",
    "        if nums[mid] > nums[right]:\n",
    "            left = mid + 1\n",
    "        else:\n",
    "            right = mid\n",
    "\n",
    "    return nums[left]\n"
   ]
  },
  {
   "cell_type": "code",
   "execution_count": 27,
   "id": "b368bf85",
   "metadata": {},
   "outputs": [
    {
     "name": "stdout",
     "output_type": "stream",
     "text": [
      "0\n"
     ]
    }
   ],
   "source": [
    "nums = [4, 5, 6, 7, 0, 1, 2]\n",
    "min_element = find_min_in_rotated_sorted_list(nums)\n",
    "print(min_element) \n"
   ]
  },
  {
   "cell_type": "markdown",
   "id": "c6ebf451",
   "metadata": {},
   "source": [
    "31. Write a program to find the sum of all even numbers in a list."
   ]
  },
  {
   "cell_type": "code",
   "execution_count": 28,
   "id": "e079dc09",
   "metadata": {},
   "outputs": [],
   "source": [
    "def sum_even_numbers(numbers):\n",
    "    even_sum = 0\n",
    "\n",
    "    for num in numbers:\n",
    "        if num % 2 == 0:\n",
    "            even_sum += num\n",
    "\n",
    "    return even_sum\n"
   ]
  },
  {
   "cell_type": "code",
   "execution_count": 29,
   "id": "723d328c",
   "metadata": {},
   "outputs": [
    {
     "name": "stdout",
     "output_type": "stream",
     "text": [
      "30\n"
     ]
    }
   ],
   "source": [
    "numbers = [1, 2, 3, 4, 5, 6, 7, 8, 9, 10]\n",
    "even_sum = sum_even_numbers(numbers)\n",
    "print(even_sum) \n"
   ]
  },
  {
   "cell_type": "markdown",
   "id": "0f378d00",
   "metadata": {},
   "source": [
    "32. Implement a function to calculate the power of a number using recursion."
   ]
  },
  {
   "cell_type": "code",
   "execution_count": 30,
   "id": "256fda99",
   "metadata": {},
   "outputs": [],
   "source": [
    "def power(base, exponent):\n",
    "    if exponent == 0:\n",
    "        return 1\n",
    "    elif exponent < 0:\n",
    "        return 1 / power(base, -exponent)\n",
    "    else:\n",
    "        return base * power(base, exponent - 1)\n"
   ]
  },
  {
   "cell_type": "code",
   "execution_count": 31,
   "id": "80882542",
   "metadata": {},
   "outputs": [
    {
     "name": "stdout",
     "output_type": "stream",
     "text": [
      "8\n"
     ]
    }
   ],
   "source": [
    "base = 2\n",
    "exponent = 3\n",
    "result = power(base, exponent)\n",
    "print(result) \n"
   ]
  },
  {
   "cell_type": "markdown",
   "id": "b6f9cba3",
   "metadata": {},
   "source": [
    "33. Write a Python program to remove duplicates from a list while preserving the order.\n"
   ]
  },
  {
   "cell_type": "code",
   "execution_count": 32,
   "id": "b0928ec8",
   "metadata": {},
   "outputs": [],
   "source": [
    "def remove_duplicates(lst):\n",
    "    seen = set()\n",
    "    result = []\n",
    "\n",
    "    for item in lst:\n",
    "        if item not in seen:\n",
    "            result.append(item)\n",
    "            seen.add(item)\n",
    "\n",
    "    return result\n"
   ]
  },
  {
   "cell_type": "code",
   "execution_count": 33,
   "id": "dbcf2e44",
   "metadata": {},
   "outputs": [
    {
     "name": "stdout",
     "output_type": "stream",
     "text": [
      "[2, 5, 8, 1, 9]\n"
     ]
    }
   ],
   "source": [
    "numbers = [2, 5, 2, 8, 1, 5, 9, 8, 2]\n",
    "unique_numbers = remove_duplicates(numbers)\n",
    "print(unique_numbers) \n"
   ]
  },
  {
   "cell_type": "markdown",
   "id": "3bc3786b",
   "metadata": {},
   "source": [
    "34. Implement a function to find the longest common prefix among a list of strings.\n"
   ]
  },
  {
   "cell_type": "code",
   "execution_count": 34,
   "id": "bbdc5a35",
   "metadata": {},
   "outputs": [],
   "source": [
    "def longest_common_prefix(strings):\n",
    "    if not strings:\n",
    "        return \"\"\n",
    "\n",
    "    prefix = strings[0]\n",
    "    for string in strings[1:]:\n",
    "        while string[:len(prefix)] != prefix:\n",
    "            prefix = prefix[:-1]\n",
    "            if not prefix:\n",
    "                return \"\"\n",
    "\n",
    "    return prefix\n"
   ]
  },
  {
   "cell_type": "code",
   "execution_count": 35,
   "id": "7558f2e6",
   "metadata": {},
   "outputs": [
    {
     "name": "stdout",
     "output_type": "stream",
     "text": [
      "fl\n"
     ]
    }
   ],
   "source": [
    "words = [\"flower\", \"flow\", \"flight\"]\n",
    "common_prefix = longest_common_prefix(words)\n",
    "print(common_prefix) \n"
   ]
  },
  {
   "cell_type": "markdown",
   "id": "0284baa8",
   "metadata": {},
   "source": [
    "35. Write a program to check if a given number is a perfect square."
   ]
  },
  {
   "cell_type": "code",
   "execution_count": 36,
   "id": "e62d24e7",
   "metadata": {},
   "outputs": [],
   "source": [
    "def is_perfect_square(num):\n",
    "    if num < 0:\n",
    "        return False\n",
    "\n",
    "    if num == 0:\n",
    "        return True\n",
    "\n",
    "    start = 1\n",
    "    end = num // 2\n",
    "\n",
    "    while start <= end:\n",
    "        mid = (start + end) // 2\n",
    "        square = mid * mid\n",
    "\n",
    "        if square == num:\n",
    "            return True\n",
    "        elif square < num:\n",
    "            start = mid + 1\n",
    "        else:\n",
    "            end = mid - 1\n",
    "\n",
    "    return False\n"
   ]
  },
  {
   "cell_type": "code",
   "execution_count": 37,
   "id": "a66f8752",
   "metadata": {},
   "outputs": [
    {
     "name": "stdout",
     "output_type": "stream",
     "text": [
      "True\n"
     ]
    }
   ],
   "source": [
    "number = 16\n",
    "is_square = is_perfect_square(number)\n",
    "print(is_square) \n"
   ]
  },
  {
   "cell_type": "markdown",
   "id": "22abb4f0",
   "metadata": {},
   "source": [
    "36. Implement a function to calculate the product of all elements in a list."
   ]
  },
  {
   "cell_type": "code",
   "execution_count": 38,
   "id": "1ec1b5d1",
   "metadata": {},
   "outputs": [],
   "source": [
    "def product_of_list_elements(lst):\n",
    "    if not lst:\n",
    "        return 1\n",
    "\n",
    "    product = 1\n",
    "    for num in lst:\n",
    "        product *= num\n",
    "\n",
    "    return product\n"
   ]
  },
  {
   "cell_type": "code",
   "execution_count": 39,
   "id": "78d2a368",
   "metadata": {},
   "outputs": [
    {
     "name": "stdout",
     "output_type": "stream",
     "text": [
      "120\n"
     ]
    }
   ],
   "source": [
    "numbers = [2, 3, 4, 5]\n",
    "product = product_of_list_elements(numbers)\n",
    "print(product) \n"
   ]
  },
  {
   "cell_type": "markdown",
   "id": "79e5bc31",
   "metadata": {},
   "source": [
    "37. Write a Python program to reverse the order of words in a sentence while preserving the word order."
   ]
  },
  {
   "cell_type": "code",
   "execution_count": 40,
   "id": "32a4ccfa",
   "metadata": {},
   "outputs": [],
   "source": [
    "def reverse_sentence(sentence):\n",
    "    words = sentence.split()\n",
    "    reversed_words = words[::-1]\n",
    "    reversed_sentence = ' '.join(reversed_words)\n",
    "    return reversed_sentence\n"
   ]
  },
  {
   "cell_type": "code",
   "execution_count": 41,
   "id": "49adacdf",
   "metadata": {},
   "outputs": [
    {
     "name": "stdout",
     "output_type": "stream",
     "text": [
      "Python. am I world! Hello,\n"
     ]
    }
   ],
   "source": [
    "sentence = \"Hello, world! I am Python.\"\n",
    "reversed_sentence = reverse_sentence(sentence)\n",
    "print(reversed_sentence) \n"
   ]
  },
  {
   "cell_type": "markdown",
   "id": "06691204",
   "metadata": {},
   "source": [
    "38. Implement a function to find the missing number in a given list of consecutive numbers."
   ]
  },
  {
   "cell_type": "code",
   "execution_count": 42,
   "id": "1575cafe",
   "metadata": {},
   "outputs": [],
   "source": [
    "def find_missing_number(numbers):\n",
    "    n = len(numbers) + 1\n",
    "    total_sum = (n * (n + 1)) // 2\n",
    "    actual_sum = sum(numbers)\n",
    "    missing_number = total_sum - actual_sum\n",
    "    return missing_number\n"
   ]
  },
  {
   "cell_type": "code",
   "execution_count": 43,
   "id": "08fa2a48",
   "metadata": {},
   "outputs": [
    {
     "name": "stdout",
     "output_type": "stream",
     "text": [
      "3\n"
     ]
    }
   ],
   "source": [
    "numbers = [1, 2, 4, 5, 6]\n",
    "missing_number = find_missing_number(numbers)\n",
    "print(missing_number) \n"
   ]
  },
  {
   "cell_type": "markdown",
   "id": "3f8ba447",
   "metadata": {},
   "source": [
    "39. Write a program to find the sum of digits of a given number."
   ]
  },
  {
   "cell_type": "code",
   "execution_count": 44,
   "id": "0a35eb4d",
   "metadata": {},
   "outputs": [],
   "source": [
    "def sum_of_digits(number):\n",
    "    digit_sum = 0\n",
    "    number = abs(number)  # Convert number to its absolute value\n",
    "\n",
    "    while number > 0:\n",
    "        digit = number % 10\n",
    "        digit_sum += digit\n",
    "        number //= 10\n",
    "\n",
    "    return digit_sum\n"
   ]
  },
  {
   "cell_type": "code",
   "execution_count": 45,
   "id": "dafe96b2",
   "metadata": {},
   "outputs": [
    {
     "name": "stdout",
     "output_type": "stream",
     "text": [
      "15\n"
     ]
    }
   ],
   "source": [
    "number = 12345\n",
    "digit_sum = sum_of_digits(number)\n",
    "print(digit_sum) \n"
   ]
  },
  {
   "cell_type": "markdown",
   "id": "a869a507",
   "metadata": {},
   "source": [
    "40. Implement a function to check if a given string is a valid palindrome considering case sensitivity."
   ]
  },
  {
   "cell_type": "code",
   "execution_count": 46,
   "id": "9d068dd4",
   "metadata": {},
   "outputs": [],
   "source": [
    "def is_valid_palindrome(string):\n",
    "    left = 0\n",
    "    right = len(string) - 1\n",
    "\n",
    "    while left < right:\n",
    "        if string[left] != string[right]:\n",
    "            return False\n",
    "        left += 1\n",
    "        right -= 1\n",
    "\n",
    "    return True\n"
   ]
  },
  {
   "cell_type": "code",
   "execution_count": 47,
   "id": "8b21cfb7",
   "metadata": {},
   "outputs": [
    {
     "name": "stdout",
     "output_type": "stream",
     "text": [
      "False\n"
     ]
    }
   ],
   "source": [
    "string = \"Racecar\"\n",
    "is_palindrome = is_valid_palindrome(string)\n",
    "print(is_palindrome) \n"
   ]
  },
  {
   "cell_type": "markdown",
   "id": "bd30541b",
   "metadata": {},
   "source": [
    "41. Write a Python program to find the smallest missing positive integer in a list."
   ]
  },
  {
   "cell_type": "code",
   "execution_count": 48,
   "id": "2ade74b5",
   "metadata": {},
   "outputs": [],
   "source": [
    "def find_smallest_missing_positive_integer(nums):\n",
    "    n = len(nums)\n",
    "\n",
    "    # Move each positive integer to its correct index\n",
    "    for i in range(n):\n",
    "        while 1 <= nums[i] <= n and nums[nums[i] - 1] != nums[i]:\n",
    "            nums[nums[i] - 1], nums[i] = nums[i], nums[nums[i] - 1]\n",
    "\n",
    "    # Find the first index with a different value than its index\n",
    "    for i in range(n):\n",
    "        if nums[i] != i + 1:\n",
    "            return i + 1\n",
    "\n",
    "    # If all indices have their correct values, the missing integer is n + 1\n",
    "    return n + 1\n"
   ]
  },
  {
   "cell_type": "code",
   "execution_count": 49,
   "id": "c6401c1a",
   "metadata": {},
   "outputs": [
    {
     "name": "stdout",
     "output_type": "stream",
     "text": [
      "2\n"
     ]
    }
   ],
   "source": [
    "numbers = [3, 4, -1, 1]\n",
    "missing_integer = find_smallest_missing_positive_integer(numbers)\n",
    "print(missing_integer)\n"
   ]
  },
  {
   "cell_type": "markdown",
   "id": "45045324",
   "metadata": {},
   "source": [
    "42. Implement a function to find the longest palindrome substring in a given string."
   ]
  },
  {
   "cell_type": "code",
   "execution_count": 50,
   "id": "826069af",
   "metadata": {},
   "outputs": [],
   "source": [
    "def longest_palindrome_substring(string):\n",
    "    if not string:\n",
    "        return \"\"\n",
    "\n",
    "    start = 0\n",
    "    end = 0\n",
    "\n",
    "    for i in range(len(string)):\n",
    "        len1 = expand_around_center(string, i, i)\n",
    "        len2 = expand_around_center(string, i, i + 1)\n",
    "        length = max(len1, len2)\n",
    "\n",
    "        if length > end - start:\n",
    "            start = i - (length - 1) // 2\n",
    "            end = i + length // 2\n",
    "\n",
    "    return string[start : end + 1]\n",
    "\n",
    "\n",
    "def expand_around_center(string, left, right):\n",
    "    while left >= 0 and right < len(string) and string[left] == string[right]:\n",
    "        left -= 1\n",
    "        right += 1\n",
    "\n",
    "    return right - left - 1\n"
   ]
  },
  {
   "cell_type": "code",
   "execution_count": 51,
   "id": "5a9cc094",
   "metadata": {},
   "outputs": [
    {
     "name": "stdout",
     "output_type": "stream",
     "text": [
      "aba\n"
     ]
    }
   ],
   "source": [
    "string = \"babad\"\n",
    "longest_palindrome = longest_palindrome_substring(string)\n",
    "print(longest_palindrome) \n"
   ]
  },
  {
   "cell_type": "markdown",
   "id": "96600e2f",
   "metadata": {},
   "source": [
    "43. Write a program to find the number of occurrences of a given element in a list."
   ]
  },
  {
   "cell_type": "code",
   "execution_count": 52,
   "id": "8763268e",
   "metadata": {},
   "outputs": [],
   "source": [
    "def count_occurrences(lst, element):\n",
    "    count = 0\n",
    "    for item in lst:\n",
    "        if item == element:\n",
    "            count += 1\n",
    "    return count\n"
   ]
  },
  {
   "cell_type": "code",
   "execution_count": 53,
   "id": "3a16dc49",
   "metadata": {},
   "outputs": [
    {
     "name": "stdout",
     "output_type": "stream",
     "text": [
      "3\n"
     ]
    }
   ],
   "source": [
    "numbers = [1, 2, 3, 4, 2, 2, 3]\n",
    "element = 2\n",
    "occurrences = count_occurrences(numbers, element)\n",
    "print(occurrences) \n"
   ]
  },
  {
   "cell_type": "markdown",
   "id": "080b596a",
   "metadata": {},
   "source": [
    "44. Implement a function to check if a given number is a perfect number."
   ]
  },
  {
   "cell_type": "code",
   "execution_count": 54,
   "id": "081591ae",
   "metadata": {},
   "outputs": [],
   "source": [
    "def is_perfect_number(number):\n",
    "    if number <= 0:\n",
    "        return False\n",
    "\n",
    "    divisor_sum = 0\n",
    "    for i in range(1, number):\n",
    "        if number % i == 0:\n",
    "            divisor_sum += i\n",
    "\n",
    "    return divisor_sum == number\n"
   ]
  },
  {
   "cell_type": "code",
   "execution_count": 55,
   "id": "1cad49aa",
   "metadata": {},
   "outputs": [
    {
     "name": "stdout",
     "output_type": "stream",
     "text": [
      "True\n"
     ]
    }
   ],
   "source": [
    "number = 28\n",
    "is_perfect = is_perfect_number(number)\n",
    "print(is_perfect) \n"
   ]
  },
  {
   "cell_type": "markdown",
   "id": "d05b341d",
   "metadata": {},
   "source": [
    "45. Write a Python program to remove all duplicates from a string."
   ]
  },
  {
   "cell_type": "code",
   "execution_count": 56,
   "id": "3264828f",
   "metadata": {},
   "outputs": [],
   "source": [
    "def remove_duplicates(string):\n",
    "    unique_chars = \"\"\n",
    "    for char in string:\n",
    "        if char not in unique_chars:\n",
    "            unique_chars += char\n",
    "    return unique_chars\n"
   ]
  },
  {
   "cell_type": "code",
   "execution_count": 57,
   "id": "4a53eab1",
   "metadata": {},
   "outputs": [
    {
     "name": "stdout",
     "output_type": "stream",
     "text": [
      "Helo, Wrd!\n"
     ]
    }
   ],
   "source": [
    "string = \"Hello, World!\"\n",
    "result = remove_duplicates(string)\n",
    "print(result) \n"
   ]
  },
  {
   "cell_type": "markdown",
   "id": "9dcc4847",
   "metadata": {},
   "source": [
    "46. Implement a function to find the first missing positive"
   ]
  },
  {
   "cell_type": "code",
   "execution_count": 58,
   "id": "1e60420a",
   "metadata": {},
   "outputs": [],
   "source": [
    "def find_first_missing_positive(nums):\n",
    "    n = len(nums)\n",
    "    \n",
    "    # Move each positive integer to its correct index\n",
    "    for i in range(n):\n",
    "        while 1 <= nums[i] <= n and nums[nums[i] - 1] != nums[i]:\n",
    "            nums[nums[i] - 1], nums[i] = nums[i], nums[nums[i] - 1]\n",
    "    \n",
    "    # Find the first index with a different value than its index\n",
    "    for i in range(n):\n",
    "        if nums[i] != i + 1:\n",
    "            return i + 1\n",
    "    \n",
    "    # If all indices have their correct values, the missing integer is n + 1\n",
    "    return n + 1\n"
   ]
  },
  {
   "cell_type": "code",
   "execution_count": 59,
   "id": "5a9c93f9",
   "metadata": {},
   "outputs": [
    {
     "name": "stdout",
     "output_type": "stream",
     "text": [
      "2\n"
     ]
    }
   ],
   "source": [
    "numbers = [3, 4, -1, 1]\n",
    "missing_integer = find_first_missing_positive(numbers)\n",
    "print(missing_integer) \n"
   ]
  },
  {
   "cell_type": "code",
   "execution_count": null,
   "id": "257733df",
   "metadata": {},
   "outputs": [],
   "source": []
  }
 ],
 "metadata": {
  "kernelspec": {
   "display_name": "Python 3 (ipykernel)",
   "language": "python",
   "name": "python3"
  },
  "language_info": {
   "codemirror_mode": {
    "name": "ipython",
    "version": 3
   },
   "file_extension": ".py",
   "mimetype": "text/x-python",
   "name": "python",
   "nbconvert_exporter": "python",
   "pygments_lexer": "ipython3",
   "version": "3.11.1"
  }
 },
 "nbformat": 4,
 "nbformat_minor": 5
}
